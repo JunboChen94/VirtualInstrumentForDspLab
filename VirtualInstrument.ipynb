{
 "cells": [
  {
   "cell_type": "code",
   "execution_count": 1,
   "metadata": {
    "collapsed": true
   },
   "outputs": [],
   "source": [
    "import numpy as np\n",
    "import cv2\n",
    "import math\n",
    "import imutils\n",
    "import os\n",
    "from os.path import realpath, normpath\n",
    "\n",
    "import binascii\n",
    "import struct\n",
    "from PIL import Image\n",
    "import scipy\n",
    "import scipy.misc\n",
    "import scipy.cluster\n",
    "\n",
    "from matplotlib import pyplot as plt"
   ]
  },
  {
   "cell_type": "markdown",
   "metadata": {},
   "source": [
    "<b>Face Recognition With Haar Feature-Based Cascade Classifiers</b>"
   ]
  },
  {
   "cell_type": "code",
   "execution_count": 2,
   "metadata": {
    "collapsed": true
   },
   "outputs": [],
   "source": [
    "def getDetectedFace(frame):\n",
    "    \"\"\"\n",
    "    frame    : the input frame in BGR color space\n",
    "    \"\"\"\n",
    "    NUM_CLUSTERS = 5\n",
    "    FaceDetected = False\n",
    "    peakHSV = None\n",
    "    # get xml path \n",
    "    s = realpath(cv2.__file__).split(\"/\")[:-1]\n",
    "    xmlPath = \"/\" + os.path.join(os.path.join(*s), \"data\")\n",
    "    # Load the cascade classifier\n",
    "    face_cascade = cv2.CascadeClassifier(os.path.join(xmlPath, 'haarcascade_frontalface_default.xml'))\n",
    "    eye_cascade = cv2.CascadeClassifier(os.path.join(xmlPath, 'haarcascade_eye.xml'))\n",
    "    # Convert the frame from default BGR to Gray color space\n",
    "    frameGray = cv2.cvtColor(frame, cv2.COLOR_BGR2GRAY)\n",
    "    # Use Histogram Equalization to enhance the contrast\n",
    "    frameGray = cv2.equalizeHist(frameGray)\n",
    "\n",
    "    # detect face in current frame\n",
    "    faces = face_cascade.detectMultiScale(frameGray, 1.3, 5)\n",
    "    for (x,y,w,h) in faces:\n",
    "        frame = cv2.rectangle(frame,(x,y),(x+w,y+h),(255,0,0),2)\n",
    "        roi_gray = frameGray[y:y+h, x:x+w]\n",
    "        roi_color = frame[y:y+h, x:x+w]\n",
    "        eyes = eye_cascade.detectMultiScale(roi_gray)\n",
    "        for (ex,ey,ew,eh) in eyes:\n",
    "            cv2.rectangle(roi_color,(ex,ey),(ex+ew,ey+eh),(0,255,0),2)\n",
    "    \n",
    "    if len(faces) > 0:\n",
    "        print(\"face detected\")\n",
    "        FaceDetected = True\n",
    "        image = frame[y:y+h, x:x+w]\n",
    "        shape = image.shape\n",
    "        ar = image.reshape(scipy.product(shape[:2]), shape[2]).astype(float)\n",
    "        codes, dist = scipy.cluster.vq.kmeans(ar, NUM_CLUSTERS)\n",
    "        vecs, dist = scipy.cluster.vq.vq(ar, codes)         # assign codes\n",
    "        counts, bins = scipy.histogram(vecs, len(codes))    # count occurrences\n",
    "        index_max = scipy.argmax(counts)                    # find most frequent\n",
    "        peak = codes[index_max]\n",
    "        peak = peak.reshape(1,1,3)\n",
    "        peak = peak.astype(\"uint8\")\n",
    "        peakHSV = cv2.cvtColor(peak, cv2.COLOR_BGR2HSV)\n",
    "\n",
    "    return FaceDetected, frame, peakHSV"
   ]
  },
  {
   "cell_type": "markdown",
   "metadata": {},
   "source": [
    "<b>Skin Detection using HSV boundary</b>"
   ]
  },
  {
   "cell_type": "code",
   "execution_count": 3,
   "metadata": {
    "collapsed": true
   },
   "outputs": [],
   "source": [
    "def getSkinMask(frame, lower, upper):\n",
    "    \"\"\"\n",
    "    frame    : the input frame in BGR color space\n",
    "    lower    : the lower bound for skin in HSV space\n",
    "    upper    : the upper bound for skin in HSV space\n",
    "    \"\"\"\n",
    "    # convert the frame from default BGR to HSV color space\n",
    "    frameHSV = cv2.cvtColor(frame, cv2.COLOR_BGR2HSV)\n",
    "    # apply the skin boundary to frame in HSV, get the mask for detected skin area in current frame\n",
    "    skinMask = cv2.inRange(frameHSV, lower, upper)\n",
    "    # apply morphological operation to the mask to remove noise\n",
    "    # define the kernel for morphological operation\n",
    "    kernel = cv2.getStructuringElement(cv2.MORPH_ELLIPSE, (3, 3))\n",
    "    # (1) use morphological opening to remove small object\n",
    "    skinMask = cv2.erode(skinMask, kernel, iterations = 2)\n",
    "    skinMask = cv2.dilate(skinMask, kernel, iterations = 2)\n",
    "    # (2) use morphological closing to fill small holes in object\n",
    "    skinMask = cv2.erode(skinMask, kernel, iterations = 2)\n",
    "    skinMask = cv2.dilate(skinMask, kernel, iterations = 2)\n",
    "    \n",
    "    return skinMask"
   ]
  },
  {
   "cell_type": "markdown",
   "metadata": {},
   "source": [
    "<b>Run Program</b>"
   ]
  },
  {
   "cell_type": "markdown",
   "metadata": {},
   "source": [
    "define the lower bound and upper bound for skin detection"
   ]
  },
  {
   "cell_type": "code",
   "execution_count": 4,
   "metadata": {
    "collapsed": true
   },
   "outputs": [],
   "source": [
    "# define the upper and lower boundaries of skin color in HSV color space\n",
    "lower = np.array([0, 48, 80], dtype = \"uint8\")\n",
    "upper = np.array([20, 255, 255], dtype = \"uint8\")"
   ]
  },
  {
   "cell_type": "markdown",
   "metadata": {},
   "source": [
    "Run Camera"
   ]
  },
  {
   "cell_type": "code",
   "execution_count": null,
   "metadata": {},
   "outputs": [
    {
     "name": "stdout",
     "output_type": "stream",
     "text": [
      "face detected\n",
      "face detected\n",
      "face detected\n",
      "face detected\n",
      "face detected\n",
      "face detected\n",
      "face detected\n",
      "face detected\n",
      "face detected\n",
      "face detected\n",
      "[[[  7  94 138]]]\n",
      "boundary defined\n"
     ]
    },
    {
     "data": {
      "image/png": "[encoded data removed]",
      "text/plain": [
       "<Figure size 432x288 with 1 Axes>"
      ]
     },
     "metadata": {},
     "output_type": "display_data"
    }
   ],
   "source": [
    "# get the default camera in your system configuration\n",
    "cap = cv2.VideoCapture(0)\n",
    "\n",
    "peakHSVs = []\n",
    "BoundaryDefined = False\n",
    "while(True):\n",
    "    # get current frame\n",
    "    ret, frame = cap.read()\n",
    "    # check if frame is successfully read\n",
    "    if not ret:\n",
    "        break\n",
    "    # show the current frame\n",
    "    cv2.imshow('frame',  frame)\n",
    "    \n",
    "    # resize the frame to decrease the computation\n",
    "    frame = imutils.resize(frame, width = 500)\n",
    "    \n",
    "    if len(peakHSVs) < 10:\n",
    "        # get face roi\n",
    "        ret, faceDetected, peakHSV = getDetectedFace(frame)\n",
    "        # display face roi\n",
    "        cv2.imshow('faceDetected',  faceDetected)\n",
    "        # put detected face to list\n",
    "        if ret:\n",
    "            peakHSVs.append(peakHSV)\n",
    "            \n",
    "    elif not BoundaryDefined:\n",
    "        meanHSV = np.mean(peakHSVs, axis=0)\n",
    "        meanHSV = meanHSV.astype(\"uint8\")\n",
    "        print(meanHSV)\n",
    "        lower = meanHSV - [10, 50, 50]\n",
    "        upper = meanHSV + [10, 50, 50]\n",
    "        BoundaryDefined = True\n",
    "        print(\"boundary defined\")\n",
    "        meanRGB = cv2.cvtColor(meanHSV, cv2.COLOR_HSV2RGB)\n",
    "        blank_image = np.zeros((100,100,3), np.uint8)\n",
    "        blank_image[:,:] = meanRGB\n",
    "        plt.imshow(blank_image)\n",
    "        plt.show()\n",
    "        \n",
    "    \n",
    "    if BoundaryDefined:\n",
    "        skinMask = getSkinMask(frame, lower, upper)\n",
    "        # display skin mask\n",
    "        cv2.imshow('skinMask',  skinMask)\n",
    "    \n",
    "    \n",
    "    # exit the program when \"q\" key is pressed\n",
    "    if cv2.waitKey(1) & 0xFF == ord('q'):\n",
    "        break\n",
    "\n",
    "# release the camera and destroy the window when program is terminated\n",
    "cap.release()\n",
    "cv2.destroyAllWindows()"
   ]
  },
  {
   "cell_type": "code",
   "execution_count": null,
   "metadata": {
    "collapsed": true
   },
   "outputs": [],
   "source": []
  }
 ],
 "metadata": {
  "kernelspec": {
   "display_name": "Python 3",
   "language": "python",
   "name": "python3"
  },
  "language_info": {
   "codemirror_mode": {
    "name": "ipython",
    "version": 3
   },
   "file_extension": ".py",
   "mimetype": "text/x-python",
   "name": "python",
   "nbconvert_exporter": "python",
   "pygments_lexer": "ipython3",
   "version": "3.5.4"
  }
 },
 "nbformat": 4,
 "nbformat_minor": 2
}
